{
 "cells": [
  {
   "cell_type": "markdown",
   "metadata": {},
   "source": [
    "Represent one point in time"
   ]
  },
  {
   "cell_type": "code",
   "execution_count": 4,
   "metadata": {},
   "outputs": [
    {
     "name": "stdout",
     "output_type": "stream",
     "text": [
      "                           0     1     2     3     4     5     6     7     \\\n",
      "0      C8g//BgchSunBQFm//0rCA==    22    22    22    22    22    22    22   \n",
      "1      C8g/IhgdQiu/Bf+MAQgrHA==    21    21    21    21    21    21    21   \n",
      "2      C8g/JRgcXCu1A/8g/64rFg==    18    18    18    18    18    18    18   \n",
      "3      C8g/JRgpCBtrAgCV/58bCw==    51    51    51    51    51    51    51   \n",
      "4      C8g0Nhgw9CugAQAOAFUrAA==    30    30    30    30    30    30    30   \n",
      "...                         ...   ...   ...   ...   ...   ...   ...   ...   \n",
      "57409  C8ivDhhVaiuuAQAR/7srDw==    19    19    19    19    19    19    19   \n",
      "57410  C8ivxRheHiuoAwDC/5ArCw==    14    14    14    14    14    14    14   \n",
      "57411  C8iyGxhi+SuxAv/U/2krEQ==    10    10    10    10    10    10    10   \n",
      "57412  C8izrhhbFiuuAgBJ/6ArCg==    23    23    23    23    23    23    23   \n",
      "57413  C8izuBhkCCu6Bf7L/7IrFA==    19    19    19    19    19    19    19   \n",
      "\n",
      "       8     9     ...  2007  2008  2009  2010  2011  2012  2013  2014  2015  \\\n",
      "0        22    22  ...    22    22    22    22    22    22    22    22    22   \n",
      "1        21    21  ...    21    21    21    21    21    21    21    21    21   \n",
      "2        18    18  ...    18    18    18    18    18    18    18    18    18   \n",
      "3        51    51  ...    49    60    60    60    60    54    53    51    51   \n",
      "4        30    30  ...    30    30    30    30    30    30    30    30    30   \n",
      "...     ...   ...  ...   ...   ...   ...   ...   ...   ...   ...   ...   ...   \n",
      "57409    19    19  ...    19    19    19    19    19    19    19    19    19   \n",
      "57410    14    14  ...    14    14    14    14    14    14    14    14    14   \n",
      "57411    10    10  ...    10    10    10    10    10    10    10    10    10   \n",
      "57412    23    23  ...    23    23    23    23    23    23    23    23    23   \n",
      "57413    19    19  ...    19    19    19    19    19    19    19    19    19   \n",
      "\n",
      "       2016  \n",
      "0        22  \n",
      "1        21  \n",
      "2        18  \n",
      "3        51  \n",
      "4        30  \n",
      "...     ...  \n",
      "57409    19  \n",
      "57410    14  \n",
      "57411    10  \n",
      "57412    23  \n",
      "57413    19  \n",
      "\n",
      "[57414 rows x 2017 columns]\n",
      "                            0    1    398\n",
      "0      C8g//BgchSunBQFm//0rCA==   22   61\n",
      "1      C8g/IhgdQiu/Bf+MAQgrHA==   21   21\n",
      "2      C8g/JRgcXCu1A/8g/64rFg==   18   18\n",
      "3      C8g/JRgpCBtrAgCV/58bCw==   51   54\n",
      "4      C8g0Nhgw9CugAQAOAFUrAA==   30   30\n",
      "...                         ...  ...  ...\n",
      "57409  C8ivDhhVaiuuAQAR/7srDw==   19   14\n",
      "57410  C8ivxRheHiuoAwDC/5ArCw==   14   14\n",
      "57411  C8iyGxhi+SuxAv/U/2krEQ==   10   10\n",
      "57412  C8izrhhbFiuuAgBJ/6ArCg==   23   19\n",
      "57413  C8izuBhkCCu6Bf7L/7IrFA==   19   19\n",
      "\n",
      "[57414 rows x 3 columns]\n"
     ]
    }
   ],
   "source": [
    "import pandas as pd\n",
    "\n",
    "all_speeds = pd.read_csv('Mumbai.csv.gz', header=None, compression='gzip')\n",
    "monday_9am = all_speeds[[0, 1, 398]]\n",
    "monday_9am.to_csv('9am_speeds.csv', header=False, index=False)\n",
    "print(all_speeds)\n",
    "print(monday_9am)"
   ]
  },
  {
   "cell_type": "markdown",
   "metadata": {},
   "source": [
    "Calculate aggregated traffic metrics"
   ]
  },
  {
   "cell_type": "code",
   "execution_count": 6,
   "metadata": {},
   "outputs": [
    {
     "name": "stdout",
     "output_type": "stream",
     "text": [
      "                 start_node  end_node  average\n",
      "0  C8g//BgchSunBQFm//0rCA==        22    33.17\n",
      "1  C8g/IhgdQiu/Bf+MAQgrHA==        21    21.00\n",
      "2  C8g/JRgcXCu1A/8g/64rFg==        18    18.00\n",
      "3  C8g/JRgpCBtrAgCV/58bCw==        51    57.17\n",
      "4  C8g0Nhgw9CugAQAOAFUrAA==        30    37.33\n"
     ]
    }
   ],
   "source": [
    "import pandas as pd\n",
    "\n",
    "all_speeds = pd.read_csv('Mumbai.csv.gz', header=None, compression='gzip')\n",
    "monday_9_10_speeds = all_speeds.iloc[:, 398:410].mean(axis=1).round(2)\n",
    "monday_9_10_nodes_speeds = pd.concat([all_speeds[[0, 1]],monday_9_10_speeds], axis=1)\n",
    "monday_9_10_nodes_speeds.columns = ['start_node', 'end_node', 'average']\n",
    "print(monday_9_10_nodes_speeds.head())"
   ]
  }
 ],
 "metadata": {
  "kernelspec": {
   "display_name": "Python 3.10.3 64-bit",
   "language": "python",
   "name": "python3"
  },
  "language_info": {
   "codemirror_mode": {
    "name": "ipython",
    "version": 3
   },
   "file_extension": ".py",
   "mimetype": "text/x-python",
   "name": "python",
   "nbconvert_exporter": "python",
   "pygments_lexer": "ipython3",
   "version": "3.10.3"
  },
  "orig_nbformat": 4,
  "vscode": {
   "interpreter": {
    "hash": "52634da84371cba311ea128a5ea7cdc41ff074b781779e754b270ff9f8153cee"
   }
  }
 },
 "nbformat": 4,
 "nbformat_minor": 2
}
